{
 "cells": [
  {
   "cell_type": "markdown",
   "id": "e3c78122-e1da-4512-abb9-adece0e9b2d6",
   "metadata": {
    "tags": []
   },
   "source": [
    "# The Spatial Test\n",
    "\n",
    "This program runs the spatial reasoning test, uploading your results to an online spreadsheet.\n",
    "\n",
    "Select **Run > Restart Kernel and Run All Cells** from the menu to run the test.\n",
    "\n",
    "Make sure you have **restarted** the kernel before each run.\n",
    "\n",
    "Manually **delete** any **new cells generated below** after clicking run for a better view and test experience."
   ]
  },
  {
   "cell_type": "code",
   "execution_count": 3,
   "id": "9a0f7014-2491-4197-b8a1-1fad646f9956",
   "metadata": {
    "tags": []
   },
   "outputs": [],
   "source": [
    "%run spatial_main_V2.py"
   ]
  }
 ],
 "metadata": {
  "kernelspec": {
   "display_name": "Python 3 (ipykernel)",
   "language": "python",
   "name": "python3"
  },
  "language_info": {
   "codemirror_mode": {
    "name": "ipython",
    "version": 3
   },
   "file_extension": ".py",
   "mimetype": "text/x-python",
   "name": "python",
   "nbconvert_exporter": "python",
   "pygments_lexer": "ipython3",
   "version": "3.11.3"
  }
 },
 "nbformat": 4,
 "nbformat_minor": 5
}
