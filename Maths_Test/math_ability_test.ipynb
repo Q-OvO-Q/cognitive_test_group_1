{
 "cells": [
  {
   "cell_type": "markdown",
   "id": "5910eaab7890467a",
   "metadata": {
    "collapsed": false,
    "jupyter": {
     "outputs_hidden": false
    }
   },
   "source": [
    "# Math Ability Test\n",
    "\n",
    "This program runs the math test, uploading your results to an online spreadsheet.\n",
    "\n",
    "Click **run** to start the test.\n",
    "It is recommended that you manually **delete** any **new cells generated below** after clicking run *for a better view and test experience*.\n",
    "\n",
    "Please make sure you have *jupyter_ui_poll* installed before running the test."
   ]
  },
  {
   "cell_type": "code",
   "execution_count": null,
   "id": "863757a8-bbb7-488d-9ff0-c3e73f233bf7",
   "metadata": {},
   "outputs": [],
   "source": [
    "%run main.py"
   ]
  }
 ],
 "metadata": {
  "kernelspec": {
   "display_name": "Python 3 (ipykernel)",
   "language": "python",
   "name": "python3"
  },
  "language_info": {
   "codemirror_mode": {
    "name": "ipython",
    "version": 3
   },
   "file_extension": ".py",
   "mimetype": "text/x-python",
   "name": "python",
   "nbconvert_exporter": "python",
   "pygments_lexer": "ipython3",
   "version": "3.12.2"
  },
  "widgets": {
   "application/vnd.jupyter.widget-state+json": {
    "state": {
     "04829aa6f7394fd6a00444fa0becde6f": {
      "model_module": "@jupyter-widgets/controls",
      "model_module_version": "2.0.0",
      "model_name": "HBoxModel",
      "state": {
       "children": [
        "IPY_MODEL_7ecf2854941c4b4786471ef35d2b42f4"
       ],
       "layout": "IPY_MODEL_73477042f7b24197a4a72abd829584b5"
      }
     },
     "05cc8cf714494ebdafe8d4424922a0c2": {
      "model_module": "@jupyter-widgets/base",
      "model_module_version": "2.0.0",
      "model_name": "LayoutModel",
      "state": {
       "justify_content": "center"
      }
     },
     "067bd7bd6c054848ba8525fb81a4c7f0": {
      "model_module": "@jupyter-widgets/base",
      "model_module_version": "2.0.0",
      "model_name": "LayoutModel",
      "state": {
       "justify_content": "center"
      }
     },
     "0bd8ce4dc14646929c2d11d836d2be85": {
      "model_module": "@jupyter-widgets/base",
      "model_module_version": "2.0.0",
      "model_name": "LayoutModel",
      "state": {}
     },
     "0fa067e9008c44f7a2bd59f460a5702e": {
      "model_module": "@jupyter-widgets/controls",
      "model_module_version": "2.0.0",
      "model_name": "TextStyleModel",
      "state": {
       "description_width": "",
       "font_size": null,
       "text_color": null
      }
     },
     "107ab88a97914664a9d9b11d6278920d": {
      "model_module": "@jupyter-widgets/controls",
      "model_module_version": "2.0.0",
      "model_name": "ButtonModel",
      "state": {
       "description": "Too Hard",
       "layout": "IPY_MODEL_a692f77cda714cf1a9093ffc149e4a61",
       "style": "IPY_MODEL_70267af915244087b726c589c2949738",
       "tooltip": null
      }
     },
     "1556003dae9149dd83d4ad653237c401": {
      "model_module": "@jupyter-widgets/base",
      "model_module_version": "2.0.0",
      "model_name": "LayoutModel",
      "state": {
       "justify_content": "center"
      }
     },
     "19f4d0e21d1745288c252af0977f78ac": {
      "model_module": "@jupyter-widgets/controls",
      "model_module_version": "2.0.0",
      "model_name": "ButtonModel",
      "state": {
       "description": "Start Test",
       "layout": "IPY_MODEL_cf42ca5a6d3d41a3b5975565bbdae992",
       "style": "IPY_MODEL_b3a6b20fd4094654966a1801cdc555f7",
       "tooltip": null
      }
     },
     "1a78da150ab847729fc95faaf39ec1fc": {
      "model_module": "@jupyter-widgets/base",
      "model_module_version": "2.0.0",
      "model_name": "LayoutModel",
      "state": {
       "justify_content": "center"
      }
     },
     "1c2ad3d1ce8444e3a480f557406ba3c4": {
      "model_module": "@jupyter-widgets/controls",
      "model_module_version": "2.0.0",
      "model_name": "HBoxModel",
      "state": {
       "children": [
        "IPY_MODEL_61222a615abc4596a1433e2048c1c46a"
       ],
       "layout": "IPY_MODEL_067bd7bd6c054848ba8525fb81a4c7f0"
      }
     },
     "1d2d6c45dc8b4ece9ccd8aa12c568431": {
      "model_module": "@jupyter-widgets/base",
      "model_module_version": "2.0.0",
      "model_name": "LayoutModel",
      "state": {}
     },
     "1e69026e6ceb4a27aa5c4e7b82ae04c8": {
      "model_module": "@jupyter-widgets/base",
      "model_module_version": "2.0.0",
      "model_name": "LayoutModel",
      "state": {}
     },
     "20083dfa02d54b64951cfa5eedbda126": {
      "model_module": "@jupyter-widgets/base",
      "model_module_version": "2.0.0",
      "model_name": "LayoutModel",
      "state": {
       "display": "none"
      }
     },
     "2071c083571448f795cb95690b4a4031": {
      "model_module": "@jupyter-widgets/base",
      "model_module_version": "2.0.0",
      "model_name": "LayoutModel",
      "state": {
       "justify_content": "center"
      }
     },
     "20db77cf52a342c783b34f22ec83f218": {
      "model_module": "@jupyter-widgets/controls",
      "model_module_version": "2.0.0",
      "model_name": "TextStyleModel",
      "state": {
       "description_width": "",
       "font_size": null,
       "text_color": null
      }
     },
     "21776c47b4604784bdc4953e9d4d46e6": {
      "model_module": "@jupyter-widgets/base",
      "model_module_version": "2.0.0",
      "model_name": "LayoutModel",
      "state": {
       "justify_content": "center"
      }
     },
     "239f669a97c1436884e60f388d4537e9": {
      "model_module": "@jupyter-widgets/output",
      "model_module_version": "1.0.0",
      "model_name": "OutputModel",
      "state": {
       "layout": "IPY_MODEL_20083dfa02d54b64951cfa5eedbda126"
      }
     },
     "260ae48f25064c08991f2470c8856f18": {
      "model_module": "@jupyter-widgets/base",
      "model_module_version": "2.0.0",
      "model_name": "LayoutModel",
      "state": {
       "justify_content": "center"
      }
     },
     "2673be64b6704c85b832e4fe3c3eedc2": {
      "model_module": "@jupyter-widgets/output",
      "model_module_version": "1.0.0",
      "model_name": "OutputModel",
      "state": {
       "layout": "IPY_MODEL_536aa75e94904ce3b50c207948102655",
       "outputs": [
        {
         "data": {
          "text/html": "<h1 align='center'>-8</h1>",
          "text/plain": "<IPython.core.display.HTML object>"
         },
         "metadata": {},
         "output_type": "display_data"
        },
        {
         "data": {
          "application/vnd.jupyter.widget-view+json": {
           "model_id": "e52ca9e14a6740008743cfb5625bb046",
           "version_major": 2,
           "version_minor": 0
          },
          "text/plain": "HBox(children=(Text(value='', continuous_update=False, description='Answer:', placeholder='Press Enter to subm…"
         },
         "metadata": {},
         "output_type": "display_data"
        }
       ]
      }
     },
     "26a67206f5ef4ea8a2b92d663277c41d": {
      "model_module": "@jupyter-widgets/controls",
      "model_module_version": "2.0.0",
      "model_name": "TextModel",
      "state": {
       "continuous_update": false,
       "description": "Answer:",
       "layout": "IPY_MODEL_bd5434077ea94446aada53fe3c304094",
       "placeholder": "Press Enter to submit",
       "style": "IPY_MODEL_754bd164d3a74095a014288d572d0f05",
       "value": "12"
      }
     },
     "2977179faaec4bbcb2489d9095165279": {
      "model_module": "@jupyter-widgets/controls",
      "model_module_version": "2.0.0",
      "model_name": "TextModel",
      "state": {
       "continuous_update": false,
       "description": "Answer:",
       "layout": "IPY_MODEL_f7376e8fa3a0477db9945c3f50886cc8",
       "placeholder": "Press Enter to submit",
       "style": "IPY_MODEL_63ebdd3821074fa48f7a4e5f54387b27",
       "value": "10"
      }
     },
     "297e2a2761854117a8a3c0e709d995ec": {
      "model_module": "@jupyter-widgets/controls",
      "model_module_version": "2.0.0",
      "model_name": "TextStyleModel",
      "state": {
       "description_width": "",
       "font_size": null,
       "text_color": null
      }
     },
     "2aae42c6a01d4bd7af60f5bdc872e690": {
      "model_module": "@jupyter-widgets/controls",
      "model_module_version": "2.0.0",
      "model_name": "HBoxModel",
      "state": {
       "children": [
        "IPY_MODEL_714d7c7755924398a1bbe5769fb52511"
       ],
       "layout": "IPY_MODEL_260ae48f25064c08991f2470c8856f18"
      }
     },
     "2ab25ea502944707a319cda62144c991": {
      "model_module": "@jupyter-widgets/controls",
      "model_module_version": "2.0.0",
      "model_name": "ButtonStyleModel",
      "state": {
       "font_family": null,
       "font_size": null,
       "font_style": null,
       "font_variant": null,
       "font_weight": null,
       "text_color": null,
       "text_decoration": null
      }
     },
     "2d36370c88a444ac93c89d59f2a1375c": {
      "model_module": "@jupyter-widgets/controls",
      "model_module_version": "2.0.0",
      "model_name": "TextModel",
      "state": {
       "continuous_update": false,
       "description": "Answer:",
       "layout": "IPY_MODEL_ba215d9e21fb4cc8a6bbd60226ecf35e",
       "placeholder": "Press Enter to submit",
       "style": "IPY_MODEL_739d7f62defc462499d71db5e8da4ef4",
       "value": "161"
      }
     },
     "2d63e942077b475d94deb74da46fc859": {
      "model_module": "@jupyter-widgets/controls",
      "model_module_version": "2.0.0",
      "model_name": "TextModel",
      "state": {
       "continuous_update": false,
       "description": "Answer:",
       "layout": "IPY_MODEL_9fcc88ab3b0a4c819c5c22cda527f769",
       "placeholder": "Press Enter to submit",
       "style": "IPY_MODEL_463d3a8c125640999e8db56cd5c700b0",
       "value": "-4"
      }
     },
     "2dc1fd24be964051be263b9db9dc4d39": {
      "model_module": "@jupyter-widgets/controls",
      "model_module_version": "2.0.0",
      "model_name": "ButtonModel",
      "state": {
       "description": "Just Right",
       "layout": "IPY_MODEL_7136e9aa025e479c88e8d710b37cd0b8",
       "style": "IPY_MODEL_6b2534e3a18c4d929d4652a5ab8d446f",
       "tooltip": null
      }
     },
     "2e40a773fef4470289ee425ed55a44d5": {
      "model_module": "@jupyter-widgets/controls",
      "model_module_version": "2.0.0",
      "model_name": "ButtonModel",
      "state": {
       "description": "Too Easy",
       "layout": "IPY_MODEL_f241db0ec7b64829a71c2daadf52cf6b",
       "style": "IPY_MODEL_785fa7dc3d8b4202a68ea55bf16eef14",
       "tooltip": null
      }
     },
     "30bc81b75328436e8eeb7a815e533db1": {
      "model_module": "@jupyter-widgets/base",
      "model_module_version": "2.0.0",
      "model_name": "LayoutModel",
      "state": {
       "display": "none",
       "visibility": "hidden"
      }
     },
     "31179c17fb6c460dadb9ad1705f2cdf3": {
      "model_module": "@jupyter-widgets/base",
      "model_module_version": "2.0.0",
      "model_name": "LayoutModel",
      "state": {}
     },
     "33e5f46bd44f412da4b790df33a5de8f": {
      "model_module": "@jupyter-widgets/controls",
      "model_module_version": "2.0.0",
      "model_name": "TextStyleModel",
      "state": {
       "description_width": "",
       "font_size": null,
       "text_color": null
      }
     },
     "3a12cdfd98184edcb74bd8dc284e3899": {
      "model_module": "@jupyter-widgets/controls",
      "model_module_version": "2.0.0",
      "model_name": "HBoxModel",
      "state": {
       "children": [
        "IPY_MODEL_69242e25780e4dce902a9551d21aa1dd"
       ],
       "layout": "IPY_MODEL_7eeba57214f540e0aacf156d90aaa256"
      }
     },
     "3cb1ba52b8bc4444befd9c6d426619cd": {
      "model_module": "@jupyter-widgets/base",
      "model_module_version": "2.0.0",
      "model_name": "LayoutModel",
      "state": {
       "display": "none"
      }
     },
     "3e6536ed11d249a4b72665c71f530584": {
      "model_module": "@jupyter-widgets/controls",
      "model_module_version": "2.0.0",
      "model_name": "ButtonStyleModel",
      "state": {
       "font_family": null,
       "font_size": null,
       "font_style": null,
       "font_variant": null,
       "font_weight": null,
       "text_color": null,
       "text_decoration": null
      }
     },
     "3ff7b66e83924f7dace168907a1d770e": {
      "model_module": "@jupyter-widgets/base",
      "model_module_version": "2.0.0",
      "model_name": "LayoutModel",
      "state": {}
     },
     "402386e3668e4865a7d2f94688d550cf": {
      "model_module": "@jupyter-widgets/controls",
      "model_module_version": "2.0.0",
      "model_name": "TextModel",
      "state": {
       "continuous_update": false,
       "description": "ID: ",
       "layout": "IPY_MODEL_1e69026e6ceb4a27aa5c4e7b82ae04c8",
       "placeholder": "Please enter your anonymized id",
       "style": "IPY_MODEL_6552c57cb29b423bb6e24e5d749243ca",
       "value": "asas"
      }
     },
     "43a99ef19b6848a8af843d0a2a52f2aa": {
      "model_module": "@jupyter-widgets/base",
      "model_module_version": "2.0.0",
      "model_name": "LayoutModel",
      "state": {}
     },
     "44d894064cee4ebe9b6394de783edf17": {
      "model_module": "@jupyter-widgets/controls",
      "model_module_version": "2.0.0",
      "model_name": "TextStyleModel",
      "state": {
       "description_width": "",
       "font_size": null,
       "text_color": null
      }
     },
     "463d3a8c125640999e8db56cd5c700b0": {
      "model_module": "@jupyter-widgets/controls",
      "model_module_version": "2.0.0",
      "model_name": "TextStyleModel",
      "state": {
       "description_width": "",
       "font_size": null,
       "text_color": null
      }
     },
     "47084947a7424a929dcee10180699c1e": {
      "model_module": "@jupyter-widgets/output",
      "model_module_version": "1.0.0",
      "model_name": "OutputModel",
      "state": {
       "layout": "IPY_MODEL_f336239b56d74ee495fb22a261f3c4df",
       "outputs": [
        {
         "name": "stdout",
         "output_type": "stream",
         "text": "\rDifficulty: Easy"
        }
       ]
      }
     },
     "473cf49e4bd94afabf00fc2353f3d8fc": {
      "model_module": "@jupyter-widgets/base",
      "model_module_version": "2.0.0",
      "model_name": "LayoutModel",
      "state": {
       "justify_content": "center"
      }
     },
     "48339225142641e4af5c639eb5a92705": {
      "model_module": "@jupyter-widgets/output",
      "model_module_version": "1.0.0",
      "model_name": "OutputModel",
      "state": {
       "layout": "IPY_MODEL_68cbdf7dffd34a01963eb92b4c3ed26a",
       "outputs": [
        {
         "name": "stdout",
         "output_type": "stream",
         "text": "\rTime Left: 60 seconds"
        },
        {
         "name": "stdout",
         "output_type": "stream",
         "text": "\rTime Left: 59 seconds"
        },
        {
         "name": "stdout",
         "output_type": "stream",
         "text": "\rTime Left: 58 seconds"
        },
        {
         "name": "stdout",
         "output_type": "stream",
         "text": "\rTime Left: 57 seconds"
        },
        {
         "name": "stdout",
         "output_type": "stream",
         "text": "\rTime Left: 56 seconds"
        },
        {
         "name": "stdout",
         "output_type": "stream",
         "text": "\rTime Left: 55 seconds"
        },
        {
         "name": "stdout",
         "output_type": "stream",
         "text": "\rTime Left: 54 seconds"
        },
        {
         "name": "stdout",
         "output_type": "stream",
         "text": "\rTime Left: 53 seconds"
        },
        {
         "name": "stdout",
         "output_type": "stream",
         "text": "\rTime Left: 52 seconds"
        },
        {
         "name": "stdout",
         "output_type": "stream",
         "text": "\rTime Left: 51 seconds"
        },
        {
         "name": "stdout",
         "output_type": "stream",
         "text": "\rTime Left: 50 seconds"
        },
        {
         "name": "stdout",
         "output_type": "stream",
         "text": "\rTime Left: 49 seconds"
        },
        {
         "name": "stdout",
         "output_type": "stream",
         "text": "\rTime Left: 48 seconds"
        },
        {
         "name": "stdout",
         "output_type": "stream",
         "text": "\rTime Left: 47 seconds"
        },
        {
         "name": "stdout",
         "output_type": "stream",
         "text": "\rTime Left: 46 seconds"
        }
       ]
      }
     },
     "4845c1e35228485fb977ab3ba47087b2": {
      "model_module": "@jupyter-widgets/controls",
      "model_module_version": "2.0.0",
      "model_name": "HBoxModel",
      "state": {
       "children": [
        "IPY_MODEL_e82cc0f3ff844981997ee65dda54c5a7"
       ],
       "layout": "IPY_MODEL_8ca3a656f96c425287b56543d7c0f9b4"
      }
     },
     "48e63086835b404b8f399ba85cd183f1": {
      "model_module": "@jupyter-widgets/base",
      "model_module_version": "2.0.0",
      "model_name": "LayoutModel",
      "state": {}
     },
     "4d4a9c593d7749828899f384940e5245": {
      "model_module": "@jupyter-widgets/output",
      "model_module_version": "1.0.0",
      "model_name": "OutputModel",
      "state": {
       "layout": "IPY_MODEL_b0d0fd0fdb7245689ccdf74de69f91a4",
       "outputs": [
        {
         "name": "stdout",
         "output_type": "stream",
         "text": "\rAccuracy: 0 / 0"
        },
        {
         "name": "stdout",
         "output_type": "stream",
         "text": "\rAccuracy: 0 / 0"
        },
        {
         "name": "stdout",
         "output_type": "stream",
         "text": "\rAccuracy: 0 / 0"
        },
        {
         "name": "stdout",
         "output_type": "stream",
         "text": "\rAccuracy: 0 / 0"
        },
        {
         "name": "stdout",
         "output_type": "stream",
         "text": "\rAccuracy: 0 / 0"
        },
        {
         "name": "stdout",
         "output_type": "stream",
         "text": "\rAccuracy: 0 / 0"
        },
        {
         "name": "stdout",
         "output_type": "stream",
         "text": "\rAccuracy: 0 / 0"
        },
        {
         "name": "stdout",
         "output_type": "stream",
         "text": "\rAccuracy: 0 / 0"
        },
        {
         "name": "stdout",
         "output_type": "stream",
         "text": "\rAccuracy: 0 / 0"
        },
        {
         "name": "stdout",
         "output_type": "stream",
         "text": "\rAccuracy: 0 / 0"
        },
        {
         "name": "stdout",
         "output_type": "stream",
         "text": "\rAccuracy: 0 / 0"
        },
        {
         "name": "stdout",
         "output_type": "stream",
         "text": "\rAccuracy: 0 / 0"
        },
        {
         "name": "stdout",
         "output_type": "stream",
         "text": "\rAccuracy: 0 / 0"
        },
        {
         "name": "stdout",
         "output_type": "stream",
         "text": "\rAccuracy: 0 / 0"
        },
        {
         "name": "stdout",
         "output_type": "stream",
         "text": "\rAccuracy: 0 / 0"
        }
       ]
      }
     },
     "4ecedbe0777a4a68b59cf54b4813c941": {
      "model_module": "@jupyter-widgets/base",
      "model_module_version": "2.0.0",
      "model_name": "LayoutModel",
      "state": {}
     },
     "4f8487b3f5084f0fa586ebb2a524f11c": {
      "model_module": "@jupyter-widgets/controls",
      "model_module_version": "2.0.0",
      "model_name": "TextStyleModel",
      "state": {
       "description_width": "",
       "font_size": null,
       "text_color": null
      }
     },
     "509a40e632fb46f69b805b029686766d": {
      "model_module": "@jupyter-widgets/controls",
      "model_module_version": "2.0.0",
      "model_name": "TextModel",
      "state": {
       "continuous_update": false,
       "description": "Age: ",
       "layout": "IPY_MODEL_48e63086835b404b8f399ba85cd183f1",
       "placeholder": "Please enter your age",
       "style": "IPY_MODEL_297e2a2761854117a8a3c0e709d995ec",
       "value": "66"
      }
     },
     "514bf029ddc1464ebf97dc9b0e918b65": {
      "model_module": "@jupyter-widgets/base",
      "model_module_version": "2.0.0",
      "model_name": "LayoutModel",
      "state": {}
     },
     "528845007a8a409182825edf91668e7c": {
      "model_module": "@jupyter-widgets/controls",
      "model_module_version": "2.0.0",
      "model_name": "HBoxModel",
      "state": {
       "children": [
        "IPY_MODEL_eba7dfcb5d694c1bb5cd124eb37b7d98"
       ],
       "layout": "IPY_MODEL_e38a7aef22c34cacaa83c3ed325dda10"
      }
     },
     "536aa75e94904ce3b50c207948102655": {
      "model_module": "@jupyter-widgets/base",
      "model_module_version": "2.0.0",
      "model_name": "LayoutModel",
      "state": {
       "display": "block"
      }
     },
     "547f3b344e1f498885f81378ebf5b839": {
      "model_module": "@jupyter-widgets/controls",
      "model_module_version": "2.0.0",
      "model_name": "HBoxModel",
      "state": {
       "children": [
        "IPY_MODEL_6ca3d0061e4f4acf870fbee3aad962ab"
       ],
       "layout": "IPY_MODEL_71509b5c406b4493817398133d0b712b"
      }
     },
     "55b3b2ec63764ac89d44725ecd130221": {
      "model_module": "@jupyter-widgets/controls",
      "model_module_version": "2.0.0",
      "model_name": "TextModel",
      "state": {
       "continuous_update": false,
       "description": "Answer:",
       "layout": "IPY_MODEL_4ecedbe0777a4a68b59cf54b4813c941",
       "placeholder": "Press Enter to submit",
       "style": "IPY_MODEL_44d894064cee4ebe9b6394de783edf17",
       "value": "6"
      }
     },
     "576aa4f02aef45fcad916eb4bf4c46fd": {
      "model_module": "@jupyter-widgets/base",
      "model_module_version": "2.0.0",
      "model_name": "LayoutModel",
      "state": {}
     },
     "57ea45d50c3a4eba9fe758e18a2e1968": {
      "model_module": "@jupyter-widgets/controls",
      "model_module_version": "2.0.0",
      "model_name": "TextModel",
      "state": {
       "continuous_update": false,
       "description": "Answer:",
       "layout": "IPY_MODEL_6b4f3547faad4bb684be1a54d9a1ad12",
       "placeholder": "Press Enter to submit",
       "style": "IPY_MODEL_20db77cf52a342c783b34f22ec83f218",
       "value": "266"
      }
     },
     "5f155e09fbbf413980a700f251eec37b": {
      "model_module": "@jupyter-widgets/base",
      "model_module_version": "2.0.0",
      "model_name": "LayoutModel",
      "state": {
       "justify_content": "center"
      }
     },
     "5f29cce1337e45aa98660433614b5a68": {
      "model_module": "@jupyter-widgets/base",
      "model_module_version": "2.0.0",
      "model_name": "LayoutModel",
      "state": {}
     },
     "5f53471384814b54a2a0635776c748c4": {
      "model_module": "@jupyter-widgets/controls",
      "model_module_version": "2.0.0",
      "model_name": "TextModel",
      "state": {
       "continuous_update": false,
       "description": "Answer:",
       "layout": "IPY_MODEL_1d2d6c45dc8b4ece9ccd8aa12c568431",
       "placeholder": "Press Enter to submit",
       "style": "IPY_MODEL_a98bc9687a67412b84795d58d74adf57",
       "value": "23"
      }
     },
     "5fa43f3a57214bd7b073101e9822e2bc": {
      "model_module": "@jupyter-widgets/controls",
      "model_module_version": "2.0.0",
      "model_name": "HBoxModel",
      "state": {
       "children": [
        "IPY_MODEL_402386e3668e4865a7d2f94688d550cf"
       ],
       "layout": "IPY_MODEL_e24e7a9adac040349945d550e96e5cf6"
      }
     },
     "61222a615abc4596a1433e2048c1c46a": {
      "model_module": "@jupyter-widgets/controls",
      "model_module_version": "2.0.0",
      "model_name": "TextModel",
      "state": {
       "continuous_update": false,
       "description": "Answer:",
       "layout": "IPY_MODEL_0bd8ce4dc14646929c2d11d836d2be85",
       "placeholder": "Press Enter to submit",
       "style": "IPY_MODEL_6fd962678a044743b7aaa27b3cccc1e5",
       "value": "13"
      }
     },
     "627d092216e84b1c8fea034089aaa0ae": {
      "model_module": "@jupyter-widgets/base",
      "model_module_version": "2.0.0",
      "model_name": "LayoutModel",
      "state": {
       "justify_content": "center"
      }
     },
     "63ebdd3821074fa48f7a4e5f54387b27": {
      "model_module": "@jupyter-widgets/controls",
      "model_module_version": "2.0.0",
      "model_name": "TextStyleModel",
      "state": {
       "description_width": "",
       "font_size": null,
       "text_color": null
      }
     },
     "6552c57cb29b423bb6e24e5d749243ca": {
      "model_module": "@jupyter-widgets/controls",
      "model_module_version": "2.0.0",
      "model_name": "TextStyleModel",
      "state": {
       "description_width": "",
       "font_size": null,
       "text_color": null
      }
     },
     "658508b88c974569aa84c44f9c958eb3": {
      "model_module": "@jupyter-widgets/controls",
      "model_module_version": "2.0.0",
      "model_name": "DropdownModel",
      "state": {
       "_options_labels": [
        "Male",
        "Female",
        "Other"
       ],
       "description": "Gender: ",
       "index": 2,
       "layout": "IPY_MODEL_3ff7b66e83924f7dace168907a1d770e",
       "style": "IPY_MODEL_828b2dde83414a8eb031c4e1a4604914"
      }
     },
     "68cbdf7dffd34a01963eb92b4c3ed26a": {
      "model_module": "@jupyter-widgets/base",
      "model_module_version": "2.0.0",
      "model_name": "LayoutModel",
      "state": {}
     },
     "690dea39adcf40758f6592c4735f33a0": {
      "model_module": "@jupyter-widgets/controls",
      "model_module_version": "2.0.0",
      "model_name": "HBoxModel",
      "state": {
       "children": [
        "IPY_MODEL_9c518155ad8341399114987dcc2dcd80"
       ],
       "layout": "IPY_MODEL_6cb941776cd94b3dac9a0e0de4f2efc1"
      }
     },
     "69242e25780e4dce902a9551d21aa1dd": {
      "model_module": "@jupyter-widgets/controls",
      "model_module_version": "2.0.0",
      "model_name": "TextModel",
      "state": {
       "continuous_update": false,
       "description": "Answer:",
       "layout": "IPY_MODEL_5f29cce1337e45aa98660433614b5a68",
       "placeholder": "Press Enter to submit",
       "style": "IPY_MODEL_ce758b47a973458995a06d278368d6d0",
       "value": "18"
      }
     },
     "6b2534e3a18c4d929d4652a5ab8d446f": {
      "model_module": "@jupyter-widgets/controls",
      "model_module_version": "2.0.0",
      "model_name": "ButtonStyleModel",
      "state": {
       "font_family": null,
       "font_size": null,
       "font_style": null,
       "font_variant": null,
       "font_weight": null,
       "text_color": null,
       "text_decoration": null
      }
     },
     "6b4f3547faad4bb684be1a54d9a1ad12": {
      "model_module": "@jupyter-widgets/base",
      "model_module_version": "2.0.0",
      "model_name": "LayoutModel",
      "state": {}
     },
     "6ca3d0061e4f4acf870fbee3aad962ab": {
      "model_module": "@jupyter-widgets/controls",
      "model_module_version": "2.0.0",
      "model_name": "TextModel",
      "state": {
       "continuous_update": false,
       "description": "Answer:",
       "layout": "IPY_MODEL_74a813a2f36043cd9d2befa240b9f1e9",
       "placeholder": "Press Enter to submit",
       "style": "IPY_MODEL_f32786df0e7d471ebe8bb576027562ff",
       "value": "6"
      }
     },
     "6cb941776cd94b3dac9a0e0de4f2efc1": {
      "model_module": "@jupyter-widgets/base",
      "model_module_version": "2.0.0",
      "model_name": "LayoutModel",
      "state": {
       "justify_content": "center"
      }
     },
     "6d531f991d344458bb9c8ff1c79df4c6": {
      "model_module": "@jupyter-widgets/controls",
      "model_module_version": "2.0.0",
      "model_name": "HBoxModel",
      "state": {
       "children": [
        "IPY_MODEL_107ab88a97914664a9d9b11d6278920d",
        "IPY_MODEL_2dc1fd24be964051be263b9db9dc4d39",
        "IPY_MODEL_2e40a773fef4470289ee425ed55a44d5"
       ],
       "layout": "IPY_MODEL_a531575d3b4842579eba198bbb0b971b"
      }
     },
     "6ebfc8b4ebe3488bb6c0e33219059464": {
      "model_module": "@jupyter-widgets/base",
      "model_module_version": "2.0.0",
      "model_name": "LayoutModel",
      "state": {
       "display": "none"
      }
     },
     "6f1f4585b5994f96a4b2aa0e65d08035": {
      "model_module": "@jupyter-widgets/controls",
      "model_module_version": "2.0.0",
      "model_name": "HBoxModel",
      "state": {
       "children": [
        "IPY_MODEL_a44ddc79730c45bd949e831d07a1ea4d"
       ],
       "layout": "IPY_MODEL_05cc8cf714494ebdafe8d4424922a0c2"
      }
     },
     "6f6557756fe34b8c9dc95f64eb0852f6": {
      "model_module": "@jupyter-widgets/controls",
      "model_module_version": "2.0.0",
      "model_name": "HBoxModel",
      "state": {
       "children": [
        "IPY_MODEL_55b3b2ec63764ac89d44725ecd130221"
       ],
       "layout": "IPY_MODEL_98c7757b454849778bee57a638a33c66"
      }
     },
     "6fd962678a044743b7aaa27b3cccc1e5": {
      "model_module": "@jupyter-widgets/controls",
      "model_module_version": "2.0.0",
      "model_name": "TextStyleModel",
      "state": {
       "description_width": "",
       "font_size": null,
       "text_color": null
      }
     },
     "70267af915244087b726c589c2949738": {
      "model_module": "@jupyter-widgets/controls",
      "model_module_version": "2.0.0",
      "model_name": "ButtonStyleModel",
      "state": {
       "font_family": null,
       "font_size": null,
       "font_style": null,
       "font_variant": null,
       "font_weight": null,
       "text_color": null,
       "text_decoration": null
      }
     },
     "7136e9aa025e479c88e8d710b37cd0b8": {
      "model_module": "@jupyter-widgets/base",
      "model_module_version": "2.0.0",
      "model_name": "LayoutModel",
      "state": {}
     },
     "714d7c7755924398a1bbe5769fb52511": {
      "model_module": "@jupyter-widgets/controls",
      "model_module_version": "2.0.0",
      "model_name": "ButtonModel",
      "state": {
       "description": "Start Test",
       "layout": "IPY_MODEL_576aa4f02aef45fcad916eb4bf4c46fd",
       "style": "IPY_MODEL_b292dada807046329f16a428d9b0de5c",
       "tooltip": null
      }
     },
     "71509b5c406b4493817398133d0b712b": {
      "model_module": "@jupyter-widgets/base",
      "model_module_version": "2.0.0",
      "model_name": "LayoutModel",
      "state": {
       "justify_content": "center"
      }
     },
     "73477042f7b24197a4a72abd829584b5": {
      "model_module": "@jupyter-widgets/base",
      "model_module_version": "2.0.0",
      "model_name": "LayoutModel",
      "state": {
       "justify_content": "center"
      }
     },
     "739d7f62defc462499d71db5e8da4ef4": {
      "model_module": "@jupyter-widgets/controls",
      "model_module_version": "2.0.0",
      "model_name": "TextStyleModel",
      "state": {
       "description_width": "",
       "font_size": null,
       "text_color": null
      }
     },
     "74a813a2f36043cd9d2befa240b9f1e9": {
      "model_module": "@jupyter-widgets/base",
      "model_module_version": "2.0.0",
      "model_name": "LayoutModel",
      "state": {}
     },
     "754bd164d3a74095a014288d572d0f05": {
      "model_module": "@jupyter-widgets/controls",
      "model_module_version": "2.0.0",
      "model_name": "TextStyleModel",
      "state": {
       "description_width": "",
       "font_size": null,
       "text_color": null
      }
     },
     "7770fed9409c432ea96775bec49d8576": {
      "model_module": "@jupyter-widgets/output",
      "model_module_version": "1.0.0",
      "model_name": "OutputModel",
      "state": {
       "layout": "IPY_MODEL_bd12d6eb547e4e048908499df73dfc82"
      }
     },
     "785fa7dc3d8b4202a68ea55bf16eef14": {
      "model_module": "@jupyter-widgets/controls",
      "model_module_version": "2.0.0",
      "model_name": "ButtonStyleModel",
      "state": {
       "font_family": null,
       "font_size": null,
       "font_style": null,
       "font_variant": null,
       "font_weight": null,
       "text_color": null,
       "text_decoration": null
      }
     },
     "7be96966d73949198e7f9b36064be3d5": {
      "model_module": "@jupyter-widgets/controls",
      "model_module_version": "2.0.0",
      "model_name": "HBoxModel",
      "state": {
       "children": [
        "IPY_MODEL_2977179faaec4bbcb2489d9095165279"
       ],
       "layout": "IPY_MODEL_88a726a5c06f4410a590bea97c2d3f60"
      }
     },
     "7e91357ed7b64021980065b53fe1b5de": {
      "model_module": "@jupyter-widgets/controls",
      "model_module_version": "2.0.0",
      "model_name": "HBoxModel",
      "state": {
       "children": [
        "IPY_MODEL_2d36370c88a444ac93c89d59f2a1375c"
       ],
       "layout": "IPY_MODEL_e2d88a3869da4be29c0beb1099a6fab2"
      }
     },
     "7ecf2854941c4b4786471ef35d2b42f4": {
      "model_module": "@jupyter-widgets/controls",
      "model_module_version": "2.0.0",
      "model_name": "TextModel",
      "state": {
       "continuous_update": false,
       "description": "ID: ",
       "layout": "IPY_MODEL_a07c059c335d40d89e52911bc26b4f33",
       "placeholder": "Please enter your anonymized id",
       "style": "IPY_MODEL_33e5f46bd44f412da4b790df33a5de8f",
       "value": "TEST"
      }
     },
     "7eeba57214f540e0aacf156d90aaa256": {
      "model_module": "@jupyter-widgets/base",
      "model_module_version": "2.0.0",
      "model_name": "LayoutModel",
      "state": {
       "justify_content": "center"
      }
     },
     "81eaa2a720874a8aa70c575c15b6d7f3": {
      "model_module": "@jupyter-widgets/controls",
      "model_module_version": "2.0.0",
      "model_name": "TextModel",
      "state": {
       "continuous_update": false,
       "description": "Answer:",
       "layout": "IPY_MODEL_31179c17fb6c460dadb9ad1705f2cdf3",
       "placeholder": "Press Enter to submit",
       "style": "IPY_MODEL_d4c20e3d72254e708a22737be348288a"
      }
     },
     "828b2dde83414a8eb031c4e1a4604914": {
      "model_module": "@jupyter-widgets/controls",
      "model_module_version": "2.0.0",
      "model_name": "DescriptionStyleModel",
      "state": {
       "description_width": ""
      }
     },
     "83cab43ad25f46c389df0ebcf694d859": {
      "model_module": "@jupyter-widgets/controls",
      "model_module_version": "2.0.0",
      "model_name": "HBoxModel",
      "state": {
       "children": [
        "IPY_MODEL_509a40e632fb46f69b805b029686766d"
       ],
       "layout": "IPY_MODEL_21776c47b4604784bdc4953e9d4d46e6"
      }
     },
     "86944fb50e964d0e9f4240536f6a782e": {
      "model_module": "@jupyter-widgets/output",
      "model_module_version": "1.0.0",
      "model_name": "OutputModel",
      "state": {
       "layout": "IPY_MODEL_6ebfc8b4ebe3488bb6c0e33219059464"
      }
     },
     "88a726a5c06f4410a590bea97c2d3f60": {
      "model_module": "@jupyter-widgets/base",
      "model_module_version": "2.0.0",
      "model_name": "LayoutModel",
      "state": {
       "justify_content": "center"
      }
     },
     "8ca3a656f96c425287b56543d7c0f9b4": {
      "model_module": "@jupyter-widgets/base",
      "model_module_version": "2.0.0",
      "model_name": "LayoutModel",
      "state": {
       "justify_content": "center"
      }
     },
     "976b40ccd64e4ef096e7bc2eea8b5df2": {
      "model_module": "@jupyter-widgets/base",
      "model_module_version": "2.0.0",
      "model_name": "LayoutModel",
      "state": {
       "justify_content": "center"
      }
     },
     "98c7757b454849778bee57a638a33c66": {
      "model_module": "@jupyter-widgets/base",
      "model_module_version": "2.0.0",
      "model_name": "LayoutModel",
      "state": {
       "justify_content": "center"
      }
     },
     "9c518155ad8341399114987dcc2dcd80": {
      "model_module": "@jupyter-widgets/controls",
      "model_module_version": "2.0.0",
      "model_name": "ButtonModel",
      "state": {
       "description": "Agree Statement",
       "layout": "IPY_MODEL_d6b1b58212f64744aebd888911f8709e",
       "style": "IPY_MODEL_3e6536ed11d249a4b72665c71f530584",
       "tooltip": null
      }
     },
     "9c6961ea34644c90942fefd371bb12bf": {
      "model_module": "@jupyter-widgets/controls",
      "model_module_version": "2.0.0",
      "model_name": "ButtonModel",
      "state": {
       "description": "Agree Statement",
       "layout": "IPY_MODEL_aae3dddf10a04d8bae3ea01130bcbf51",
       "style": "IPY_MODEL_2ab25ea502944707a319cda62144c991",
       "tooltip": null
      }
     },
     "9fcc88ab3b0a4c819c5c22cda527f769": {
      "model_module": "@jupyter-widgets/base",
      "model_module_version": "2.0.0",
      "model_name": "LayoutModel",
      "state": {}
     },
     "a07c059c335d40d89e52911bc26b4f33": {
      "model_module": "@jupyter-widgets/base",
      "model_module_version": "2.0.0",
      "model_name": "LayoutModel",
      "state": {}
     },
     "a44ddc79730c45bd949e831d07a1ea4d": {
      "model_module": "@jupyter-widgets/controls",
      "model_module_version": "2.0.0",
      "model_name": "TextModel",
      "state": {
       "continuous_update": false,
       "description": "Answer:",
       "layout": "IPY_MODEL_43a99ef19b6848a8af843d0a2a52f2aa",
       "placeholder": "Press Enter to submit",
       "style": "IPY_MODEL_4f8487b3f5084f0fa586ebb2a524f11c"
      }
     },
     "a4d21f78cd7a4d97b24a63f06755ead1": {
      "model_module": "@jupyter-widgets/controls",
      "model_module_version": "2.0.0",
      "model_name": "TextStyleModel",
      "state": {
       "description_width": "",
       "font_size": null,
       "text_color": null
      }
     },
     "a531575d3b4842579eba198bbb0b971b": {
      "model_module": "@jupyter-widgets/base",
      "model_module_version": "2.0.0",
      "model_name": "LayoutModel",
      "state": {
       "justify_content": "center"
      }
     },
     "a65e7adc4686478db4eea36d332aa739": {
      "model_module": "@jupyter-widgets/base",
      "model_module_version": "2.0.0",
      "model_name": "LayoutModel",
      "state": {}
     },
     "a692f77cda714cf1a9093ffc149e4a61": {
      "model_module": "@jupyter-widgets/base",
      "model_module_version": "2.0.0",
      "model_name": "LayoutModel",
      "state": {}
     },
     "a98bc9687a67412b84795d58d74adf57": {
      "model_module": "@jupyter-widgets/controls",
      "model_module_version": "2.0.0",
      "model_name": "TextStyleModel",
      "state": {
       "description_width": "",
       "font_size": null,
       "text_color": null
      }
     },
     "a9c8ab9997ae470d914d62881479b6f7": {
      "model_module": "@jupyter-widgets/controls",
      "model_module_version": "2.0.0",
      "model_name": "HBoxModel",
      "state": {
       "children": [
        "IPY_MODEL_9c6961ea34644c90942fefd371bb12bf"
       ],
       "layout": "IPY_MODEL_473cf49e4bd94afabf00fc2353f3d8fc"
      }
     },
     "aae3dddf10a04d8bae3ea01130bcbf51": {
      "model_module": "@jupyter-widgets/base",
      "model_module_version": "2.0.0",
      "model_name": "LayoutModel",
      "state": {}
     },
     "ae409008f15347c98da3aac6de49e6ca": {
      "model_module": "@jupyter-widgets/base",
      "model_module_version": "2.0.0",
      "model_name": "LayoutModel",
      "state": {
       "justify_content": "center"
      }
     },
     "af69468ef0fa48cc9b8169854e776d02": {
      "model_module": "@jupyter-widgets/base",
      "model_module_version": "2.0.0",
      "model_name": "LayoutModel",
      "state": {
       "justify_content": "center"
      }
     },
     "b0d0fd0fdb7245689ccdf74de69f91a4": {
      "model_module": "@jupyter-widgets/base",
      "model_module_version": "2.0.0",
      "model_name": "LayoutModel",
      "state": {}
     },
     "b292dada807046329f16a428d9b0de5c": {
      "model_module": "@jupyter-widgets/controls",
      "model_module_version": "2.0.0",
      "model_name": "ButtonStyleModel",
      "state": {
       "font_family": null,
       "font_size": null,
       "font_style": null,
       "font_variant": null,
       "font_weight": null,
       "text_color": null,
       "text_decoration": null
      }
     },
     "b3a6b20fd4094654966a1801cdc555f7": {
      "model_module": "@jupyter-widgets/controls",
      "model_module_version": "2.0.0",
      "model_name": "ButtonStyleModel",
      "state": {
       "font_family": null,
       "font_size": null,
       "font_style": null,
       "font_variant": null,
       "font_weight": null,
       "text_color": null,
       "text_decoration": null
      }
     },
     "ba215d9e21fb4cc8a6bbd60226ecf35e": {
      "model_module": "@jupyter-widgets/base",
      "model_module_version": "2.0.0",
      "model_name": "LayoutModel",
      "state": {}
     },
     "bbc51b1964b14c87bb962234e7f51378": {
      "model_module": "@jupyter-widgets/controls",
      "model_module_version": "2.0.0",
      "model_name": "TextModel",
      "state": {
       "continuous_update": false,
       "description": "Answer:",
       "layout": "IPY_MODEL_514bf029ddc1464ebf97dc9b0e918b65",
       "placeholder": "Press Enter to submit",
       "style": "IPY_MODEL_0fa067e9008c44f7a2bd59f460a5702e",
       "value": "6"
      }
     },
     "bd12d6eb547e4e048908499df73dfc82": {
      "model_module": "@jupyter-widgets/base",
      "model_module_version": "2.0.0",
      "model_name": "LayoutModel",
      "state": {
       "visibility": "hidden"
      }
     },
     "bd5434077ea94446aada53fe3c304094": {
      "model_module": "@jupyter-widgets/base",
      "model_module_version": "2.0.0",
      "model_name": "LayoutModel",
      "state": {}
     },
     "be0acd98b21341c4b66c9a0ae9b5c48f": {
      "model_module": "@jupyter-widgets/controls",
      "model_module_version": "2.0.0",
      "model_name": "HBoxModel",
      "state": {
       "children": [
        "IPY_MODEL_658508b88c974569aa84c44f9c958eb3"
       ],
       "layout": "IPY_MODEL_2071c083571448f795cb95690b4a4031"
      }
     },
     "bea3d50c66384611bd6f3b31126a9cd0": {
      "model_module": "@jupyter-widgets/base",
      "model_module_version": "2.0.0",
      "model_name": "LayoutModel",
      "state": {}
     },
     "c34ff7a34ada4db9b0c8a146b50cdf94": {
      "model_module": "@jupyter-widgets/base",
      "model_module_version": "2.0.0",
      "model_name": "LayoutModel",
      "state": {
       "display": "none"
      }
     },
     "c3ebdf2a23c547ef80e2ea395ae752fc": {
      "model_module": "@jupyter-widgets/controls",
      "model_module_version": "2.0.0",
      "model_name": "HBoxModel",
      "state": {
       "children": [
        "IPY_MODEL_57ea45d50c3a4eba9fe758e18a2e1968"
       ],
       "layout": "IPY_MODEL_d974e71a0a384fd2af5447c5fea90560"
      }
     },
     "c9ed6932256c4bd482b169a94d9f02cd": {
      "model_module": "@jupyter-widgets/controls",
      "model_module_version": "2.0.0",
      "model_name": "DropdownModel",
      "state": {
       "_options_labels": [
        "Male",
        "Female",
        "Other"
       ],
       "description": "Gender: ",
       "index": 2,
       "layout": "IPY_MODEL_dc28e1a07fdb4a5cbd1b418fe9e3ef67",
       "style": "IPY_MODEL_d4d6647b2e68436b8bcd48add303064f"
      }
     },
     "ce758b47a973458995a06d278368d6d0": {
      "model_module": "@jupyter-widgets/controls",
      "model_module_version": "2.0.0",
      "model_name": "TextStyleModel",
      "state": {
       "description_width": "",
       "font_size": null,
       "text_color": null
      }
     },
     "cf42ca5a6d3d41a3b5975565bbdae992": {
      "model_module": "@jupyter-widgets/base",
      "model_module_version": "2.0.0",
      "model_name": "LayoutModel",
      "state": {}
     },
     "d1a784aa081040c589a3657dcea90670": {
      "model_module": "@jupyter-widgets/output",
      "model_module_version": "1.0.0",
      "model_name": "OutputModel",
      "state": {
       "layout": "IPY_MODEL_c34ff7a34ada4db9b0c8a146b50cdf94",
       "outputs": [
        {
         "data": {
          "text/html": "<h1 align='center'>×17</h1>",
          "text/plain": "<IPython.core.display.HTML object>"
         },
         "metadata": {},
         "output_type": "display_data"
        }
       ]
      }
     },
     "d4c20e3d72254e708a22737be348288a": {
      "model_module": "@jupyter-widgets/controls",
      "model_module_version": "2.0.0",
      "model_name": "TextStyleModel",
      "state": {
       "description_width": "",
       "font_size": null,
       "text_color": null
      }
     },
     "d4d6647b2e68436b8bcd48add303064f": {
      "model_module": "@jupyter-widgets/controls",
      "model_module_version": "2.0.0",
      "model_name": "DescriptionStyleModel",
      "state": {
       "description_width": ""
      }
     },
     "d530a9255b1a4fec90d4ad2ea74a259c": {
      "model_module": "@jupyter-widgets/controls",
      "model_module_version": "2.0.0",
      "model_name": "HBoxModel",
      "state": {
       "children": [
        "IPY_MODEL_2d63e942077b475d94deb74da46fc859"
       ],
       "layout": "IPY_MODEL_1a78da150ab847729fc95faaf39ec1fc"
      }
     },
     "d6b1b58212f64744aebd888911f8709e": {
      "model_module": "@jupyter-widgets/base",
      "model_module_version": "2.0.0",
      "model_name": "LayoutModel",
      "state": {}
     },
     "d974e71a0a384fd2af5447c5fea90560": {
      "model_module": "@jupyter-widgets/base",
      "model_module_version": "2.0.0",
      "model_name": "LayoutModel",
      "state": {
       "justify_content": "center"
      }
     },
     "dc28e1a07fdb4a5cbd1b418fe9e3ef67": {
      "model_module": "@jupyter-widgets/base",
      "model_module_version": "2.0.0",
      "model_name": "LayoutModel",
      "state": {}
     },
     "dcb07388c5d34018b4ddf9fd592e2ddf": {
      "model_module": "@jupyter-widgets/output",
      "model_module_version": "1.0.0",
      "model_name": "OutputModel",
      "state": {
       "layout": "IPY_MODEL_30bc81b75328436e8eeb7a815e533db1"
      }
     },
     "e24e7a9adac040349945d550e96e5cf6": {
      "model_module": "@jupyter-widgets/base",
      "model_module_version": "2.0.0",
      "model_name": "LayoutModel",
      "state": {
       "justify_content": "center"
      }
     },
     "e2d88a3869da4be29c0beb1099a6fab2": {
      "model_module": "@jupyter-widgets/base",
      "model_module_version": "2.0.0",
      "model_name": "LayoutModel",
      "state": {
       "justify_content": "center"
      }
     },
     "e38a7aef22c34cacaa83c3ed325dda10": {
      "model_module": "@jupyter-widgets/base",
      "model_module_version": "2.0.0",
      "model_name": "LayoutModel",
      "state": {
       "justify_content": "center"
      }
     },
     "e52ca9e14a6740008743cfb5625bb046": {
      "model_module": "@jupyter-widgets/controls",
      "model_module_version": "2.0.0",
      "model_name": "HBoxModel",
      "state": {
       "children": [
        "IPY_MODEL_81eaa2a720874a8aa70c575c15b6d7f3"
       ],
       "layout": "IPY_MODEL_5f155e09fbbf413980a700f251eec37b"
      }
     },
     "e5f1c029ec3040bdb4c9bb15382f33a4": {
      "model_module": "@jupyter-widgets/controls",
      "model_module_version": "2.0.0",
      "model_name": "HBoxModel",
      "state": {
       "children": [
        "IPY_MODEL_bbc51b1964b14c87bb962234e7f51378"
       ],
       "layout": "IPY_MODEL_af69468ef0fa48cc9b8169854e776d02"
      }
     },
     "e6af87067c1c4cd1a2e2bacaccd63c51": {
      "model_module": "@jupyter-widgets/controls",
      "model_module_version": "2.0.0",
      "model_name": "HBoxModel",
      "state": {
       "children": [
        "IPY_MODEL_19f4d0e21d1745288c252af0977f78ac"
       ],
       "layout": "IPY_MODEL_976b40ccd64e4ef096e7bc2eea8b5df2"
      }
     },
     "e6d72610a6d742e591791f9ada13adc5": {
      "model_module": "@jupyter-widgets/controls",
      "model_module_version": "2.0.0",
      "model_name": "HBoxModel",
      "state": {
       "children": [
        "IPY_MODEL_5f53471384814b54a2a0635776c748c4"
       ],
       "layout": "IPY_MODEL_1556003dae9149dd83d4ad653237c401"
      }
     },
     "e82cc0f3ff844981997ee65dda54c5a7": {
      "model_module": "@jupyter-widgets/controls",
      "model_module_version": "2.0.0",
      "model_name": "TextModel",
      "state": {
       "continuous_update": false,
       "description": "Answer:",
       "layout": "IPY_MODEL_a65e7adc4686478db4eea36d332aa739",
       "placeholder": "Press Enter to submit",
       "style": "IPY_MODEL_a4d21f78cd7a4d97b24a63f06755ead1",
       "value": "hgh"
      }
     },
     "eba7dfcb5d694c1bb5cd124eb37b7d98": {
      "model_module": "@jupyter-widgets/controls",
      "model_module_version": "2.0.0",
      "model_name": "TextModel",
      "state": {
       "continuous_update": false,
       "description": "Age: ",
       "layout": "IPY_MODEL_bea3d50c66384611bd6f3b31126a9cd0",
       "placeholder": "Please enter your age",
       "style": "IPY_MODEL_fd2d5e870a134ad98477673c75d1a6b5",
       "value": "99"
      }
     },
     "ed177b4d1b0641809adc92278efca7d5": {
      "model_module": "@jupyter-widgets/output",
      "model_module_version": "1.0.0",
      "model_name": "OutputModel",
      "state": {
       "layout": "IPY_MODEL_3cb1ba52b8bc4444befd9c6d426619cd",
       "outputs": [
        {
         "name": "stdout",
         "output_type": "stream",
         "text": "\rDifficulty: hard"
        }
       ]
      }
     },
     "f241db0ec7b64829a71c2daadf52cf6b": {
      "model_module": "@jupyter-widgets/base",
      "model_module_version": "2.0.0",
      "model_name": "LayoutModel",
      "state": {}
     },
     "f32786df0e7d471ebe8bb576027562ff": {
      "model_module": "@jupyter-widgets/controls",
      "model_module_version": "2.0.0",
      "model_name": "TextStyleModel",
      "state": {
       "description_width": "",
       "font_size": null,
       "text_color": null
      }
     },
     "f336239b56d74ee495fb22a261f3c4df": {
      "model_module": "@jupyter-widgets/base",
      "model_module_version": "2.0.0",
      "model_name": "LayoutModel",
      "state": {}
     },
     "f381e26e21bb42f380832cddd28c289a": {
      "model_module": "@jupyter-widgets/controls",
      "model_module_version": "2.0.0",
      "model_name": "HBoxModel",
      "state": {
       "children": [
        "IPY_MODEL_26a67206f5ef4ea8a2b92d663277c41d"
       ],
       "layout": "IPY_MODEL_627d092216e84b1c8fea034089aaa0ae"
      }
     },
     "f6eb4bdb53c34a14aa4065f9c08ae1e8": {
      "model_module": "@jupyter-widgets/controls",
      "model_module_version": "2.0.0",
      "model_name": "HBoxModel",
      "state": {
       "children": [
        "IPY_MODEL_c9ed6932256c4bd482b169a94d9f02cd"
       ],
       "layout": "IPY_MODEL_ae409008f15347c98da3aac6de49e6ca"
      }
     },
     "f7376e8fa3a0477db9945c3f50886cc8": {
      "model_module": "@jupyter-widgets/base",
      "model_module_version": "2.0.0",
      "model_name": "LayoutModel",
      "state": {}
     },
     "fd2d5e870a134ad98477673c75d1a6b5": {
      "model_module": "@jupyter-widgets/controls",
      "model_module_version": "2.0.0",
      "model_name": "TextStyleModel",
      "state": {
       "description_width": "",
       "font_size": null,
       "text_color": null
      }
     }
    },
    "version_major": 2,
    "version_minor": 0
   }
  }
 },
 "nbformat": 4,
 "nbformat_minor": 5
}
