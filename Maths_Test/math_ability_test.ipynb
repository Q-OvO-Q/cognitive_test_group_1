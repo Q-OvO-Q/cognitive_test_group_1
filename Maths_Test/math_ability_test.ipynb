{
 "cells": [
  {
   "cell_type": "code",
   "execution_count": null,
   "id": "731603da-f59a-4b89-a68e-fb371f08cf2f",
   "metadata": {},
   "outputs": [],
   "source": [
    "%run main.py"
   ]
  }
 ],
 "metadata": {
  "kernelspec": {
   "display_name": "Python 3 (ipykernel)",
   "language": "python",
   "name": "python3"
  },
  "language_info": {
   "codemirror_mode": {
    "name": "ipython",
    "version": 3
   },
   "file_extension": ".py",
   "mimetype": "text/x-python",
   "name": "python",
   "nbconvert_exporter": "python",
   "pygments_lexer": "ipython3",
   "version": "3.12.2"
  },
  "widgets": {
   "application/vnd.jupyter.widget-state+json": {
    "state": {
     "07a90309bc334bd385d0ae804c0150e0": {
      "model_module": "@jupyter-widgets/controls",
      "model_module_version": "2.0.0",
      "model_name": "HBoxModel",
      "state": {
       "children": [
        "IPY_MODEL_13226f166c26405798f13c5fac97d1b1"
       ],
       "layout": "IPY_MODEL_c7b785684fde4b5b92d8997fcdb698ee"
      }
     },
     "0f0583767f3e47d884114104f3c35242": {
      "model_module": "@jupyter-widgets/base",
      "model_module_version": "2.0.0",
      "model_name": "LayoutModel",
      "state": {}
     },
     "0f81f37a165a42ed99b7acd0c8a1fb15": {
      "model_module": "@jupyter-widgets/base",
      "model_module_version": "2.0.0",
      "model_name": "LayoutModel",
      "state": {
       "justify_content": "center"
      }
     },
     "0fef21489c8340dc883ee325fe16ce0d": {
      "model_module": "@jupyter-widgets/base",
      "model_module_version": "2.0.0",
      "model_name": "LayoutModel",
      "state": {}
     },
     "128426803d714e579027e03cd34b721a": {
      "model_module": "@jupyter-widgets/base",
      "model_module_version": "2.0.0",
      "model_name": "LayoutModel",
      "state": {
       "justify_content": "center"
      }
     },
     "13226f166c26405798f13c5fac97d1b1": {
      "model_module": "@jupyter-widgets/controls",
      "model_module_version": "2.0.0",
      "model_name": "TextModel",
      "state": {
       "continuous_update": false,
       "description": "Age: ",
       "layout": "IPY_MODEL_eae82743927c41cf93d02b59c7516e2f",
       "placeholder": "Please enter your age",
       "style": "IPY_MODEL_893290f6fd96480083e9a54545544490",
       "value": "99"
      }
     },
     "19d0dfecc7664479918bc90092c101bf": {
      "model_module": "@jupyter-widgets/base",
      "model_module_version": "2.0.0",
      "model_name": "LayoutModel",
      "state": {
       "justify_content": "center"
      }
     },
     "1a41568948ef45398f6b80e8d4000095": {
      "model_module": "@jupyter-widgets/controls",
      "model_module_version": "2.0.0",
      "model_name": "ButtonModel",
      "state": {
       "description": "Too Hard",
       "layout": "IPY_MODEL_0fef21489c8340dc883ee325fe16ce0d",
       "style": "IPY_MODEL_517943065d2f43ae94d8ed75a5b50ad8",
       "tooltip": null
      }
     },
     "1a742af41f464ffd9df124c1005fdf62": {
      "model_module": "@jupyter-widgets/controls",
      "model_module_version": "2.0.0",
      "model_name": "TextStyleModel",
      "state": {
       "description_width": "",
       "font_size": null,
       "text_color": null
      }
     },
     "240a061026f0424b95ab2a2c11092820": {
      "model_module": "@jupyter-widgets/output",
      "model_module_version": "1.0.0",
      "model_name": "OutputModel",
      "state": {
       "layout": "IPY_MODEL_d6ddcbba12d64ec190773009021384cd"
      }
     },
     "25f29fbd401c4562aeeaa16a2b096956": {
      "model_module": "@jupyter-widgets/controls",
      "model_module_version": "2.0.0",
      "model_name": "TextStyleModel",
      "state": {
       "description_width": "",
       "font_size": null,
       "text_color": null
      }
     },
     "3d05b8af1ea84ddda7b320453ac793f6": {
      "model_module": "@jupyter-widgets/controls",
      "model_module_version": "2.0.0",
      "model_name": "ButtonStyleModel",
      "state": {
       "font_family": null,
       "font_size": null,
       "font_style": null,
       "font_variant": null,
       "font_weight": null,
       "text_color": null,
       "text_decoration": null
      }
     },
     "4e11105684f74c2bafc06d37a78bd568": {
      "model_module": "@jupyter-widgets/controls",
      "model_module_version": "2.0.0",
      "model_name": "DescriptionStyleModel",
      "state": {
       "description_width": ""
      }
     },
     "517943065d2f43ae94d8ed75a5b50ad8": {
      "model_module": "@jupyter-widgets/controls",
      "model_module_version": "2.0.0",
      "model_name": "ButtonStyleModel",
      "state": {
       "font_family": null,
       "font_size": null,
       "font_style": null,
       "font_variant": null,
       "font_weight": null,
       "text_color": null,
       "text_decoration": null
      }
     },
     "5437c26e668c4ea794e5a09faf1daa36": {
      "model_module": "@jupyter-widgets/base",
      "model_module_version": "2.0.0",
      "model_name": "LayoutModel",
      "state": {
       "display": "none"
      }
     },
     "5e1f64b489d54bad9e0ab46bdb9b1d61": {
      "model_module": "@jupyter-widgets/base",
      "model_module_version": "2.0.0",
      "model_name": "LayoutModel",
      "state": {}
     },
     "5fc3f52770ef46ffa6660184f008e2d7": {
      "model_module": "@jupyter-widgets/base",
      "model_module_version": "2.0.0",
      "model_name": "LayoutModel",
      "state": {
       "justify_content": "center"
      }
     },
     "631edf4ed5cb425483f3f0744b4e77f7": {
      "model_module": "@jupyter-widgets/controls",
      "model_module_version": "2.0.0",
      "model_name": "ButtonModel",
      "state": {
       "description": "Too Easy",
       "layout": "IPY_MODEL_c8771b1a3a714ea2b9e7a565b50ddbf6",
       "style": "IPY_MODEL_ca1b53eb4fc94f558a3aaa82be14d094",
       "tooltip": null
      }
     },
     "66006d6ff8374048a9357cf4cc6c8ef4": {
      "model_module": "@jupyter-widgets/controls",
      "model_module_version": "2.0.0",
      "model_name": "ButtonModel",
      "state": {
       "description": "Start Test",
       "layout": "IPY_MODEL_0f0583767f3e47d884114104f3c35242",
       "style": "IPY_MODEL_cfd2db2bbe8a4a14985b138b313fa4a3",
       "tooltip": null
      }
     },
     "6782f4c85fb14511906f4d0829b3d364": {
      "model_module": "@jupyter-widgets/base",
      "model_module_version": "2.0.0",
      "model_name": "LayoutModel",
      "state": {}
     },
     "6941354b8f384d54bf59a1de8a28db91": {
      "model_module": "@jupyter-widgets/controls",
      "model_module_version": "2.0.0",
      "model_name": "HBoxModel",
      "state": {
       "children": [
        "IPY_MODEL_fdaa80a50a6c4417978fd5c397ffb857"
       ],
       "layout": "IPY_MODEL_0f81f37a165a42ed99b7acd0c8a1fb15"
      }
     },
     "69941147b53640d1a74f59f056b77178": {
      "model_module": "@jupyter-widgets/controls",
      "model_module_version": "2.0.0",
      "model_name": "TextModel",
      "state": {
       "continuous_update": false,
       "description": "ID: ",
       "layout": "IPY_MODEL_eb2e402e302b4d61b66550c4fe0320e0",
       "placeholder": "Please enter your anonymised id",
       "style": "IPY_MODEL_1a742af41f464ffd9df124c1005fdf62",
       "value": "TEST"
      }
     },
     "711544ff8f714edca692bdfd3e6daba7": {
      "model_module": "@jupyter-widgets/base",
      "model_module_version": "2.0.0",
      "model_name": "LayoutModel",
      "state": {
       "display": "none"
      }
     },
     "726c868909f84c9090172a1ba0cc246e": {
      "model_module": "@jupyter-widgets/output",
      "model_module_version": "1.0.0",
      "model_name": "OutputModel",
      "state": {
       "layout": "IPY_MODEL_b263ea21797c410380313424c5ef8490"
      }
     },
     "82a49742fe104b26973784bb4aec8b76": {
      "model_module": "@jupyter-widgets/controls",
      "model_module_version": "2.0.0",
      "model_name": "HBoxModel",
      "state": {
       "children": [
        "IPY_MODEL_66006d6ff8374048a9357cf4cc6c8ef4"
       ],
       "layout": "IPY_MODEL_5fc3f52770ef46ffa6660184f008e2d7"
      }
     },
     "8686d3832638453182687693f4ba5be4": {
      "model_module": "@jupyter-widgets/controls",
      "model_module_version": "2.0.0",
      "model_name": "HBoxModel",
      "state": {
       "children": [
        "IPY_MODEL_c64023b3dcc1480aab75fc7a83caa2f3"
       ],
       "layout": "IPY_MODEL_19d0dfecc7664479918bc90092c101bf"
      }
     },
     "893290f6fd96480083e9a54545544490": {
      "model_module": "@jupyter-widgets/controls",
      "model_module_version": "2.0.0",
      "model_name": "TextStyleModel",
      "state": {
       "description_width": "",
       "font_size": null,
       "text_color": null
      }
     },
     "8e8f1d42362c42b69b3e899d999ae41e": {
      "model_module": "@jupyter-widgets/base",
      "model_module_version": "2.0.0",
      "model_name": "LayoutModel",
      "state": {}
     },
     "98da25b6b6484ecfb26a97c818ceeb7d": {
      "model_module": "@jupyter-widgets/output",
      "model_module_version": "1.0.0",
      "model_name": "OutputModel",
      "state": {
       "layout": "IPY_MODEL_5437c26e668c4ea794e5a09faf1daa36",
       "outputs": [
        {
         "name": "stdout",
         "output_type": "stream",
         "text": "\rDifficulty: Hard"
        }
       ]
      }
     },
     "99a6834773424ec39d597c504ecd2670": {
      "model_module": "@jupyter-widgets/controls",
      "model_module_version": "2.0.0",
      "model_name": "HBoxModel",
      "state": {
       "children": [
        "IPY_MODEL_69941147b53640d1a74f59f056b77178"
       ],
       "layout": "IPY_MODEL_128426803d714e579027e03cd34b721a"
      }
     },
     "a95479b6ba2f4b2cbc346b568f3db782": {
      "model_module": "@jupyter-widgets/base",
      "model_module_version": "2.0.0",
      "model_name": "LayoutModel",
      "state": {
       "justify_content": "center"
      }
     },
     "b263ea21797c410380313424c5ef8490": {
      "model_module": "@jupyter-widgets/base",
      "model_module_version": "2.0.0",
      "model_name": "LayoutModel",
      "state": {
       "display": "none",
       "visibility": "visible"
      }
     },
     "bb63ca96d4e54e2986b2c496e578c8ec": {
      "model_module": "@jupyter-widgets/output",
      "model_module_version": "1.0.0",
      "model_name": "OutputModel",
      "state": {
       "layout": "IPY_MODEL_bc01048085714bf18cbf71b1e0b526fa",
       "outputs": [
        {
         "data": {
          "text/html": "<h1 align='center'>×16</h1>",
          "text/plain": "<IPython.core.display.HTML object>"
         },
         "metadata": {},
         "output_type": "display_data"
        }
       ]
      }
     },
     "bc01048085714bf18cbf71b1e0b526fa": {
      "model_module": "@jupyter-widgets/base",
      "model_module_version": "2.0.0",
      "model_name": "LayoutModel",
      "state": {
       "display": "none"
      }
     },
     "bc1e36f89c1945e9b9d3bce1f05fc5e5": {
      "model_module": "@jupyter-widgets/output",
      "model_module_version": "1.0.0",
      "model_name": "OutputModel",
      "state": {
       "layout": "IPY_MODEL_711544ff8f714edca692bdfd3e6daba7"
      }
     },
     "c64023b3dcc1480aab75fc7a83caa2f3": {
      "model_module": "@jupyter-widgets/controls",
      "model_module_version": "2.0.0",
      "model_name": "DropdownModel",
      "state": {
       "_options_labels": [
        "Male",
        "Female",
        "Other"
       ],
       "description": "Gender: ",
       "index": 2,
       "layout": "IPY_MODEL_5e1f64b489d54bad9e0ab46bdb9b1d61",
       "style": "IPY_MODEL_4e11105684f74c2bafc06d37a78bd568"
      }
     },
     "c7b785684fde4b5b92d8997fcdb698ee": {
      "model_module": "@jupyter-widgets/base",
      "model_module_version": "2.0.0",
      "model_name": "LayoutModel",
      "state": {
       "justify_content": "center"
      }
     },
     "c8771b1a3a714ea2b9e7a565b50ddbf6": {
      "model_module": "@jupyter-widgets/base",
      "model_module_version": "2.0.0",
      "model_name": "LayoutModel",
      "state": {}
     },
     "c97963fab2f74c67aed728b06f297a98": {
      "model_module": "@jupyter-widgets/base",
      "model_module_version": "2.0.0",
      "model_name": "LayoutModel",
      "state": {
       "justify_content": "center"
      }
     },
     "ca1b53eb4fc94f558a3aaa82be14d094": {
      "model_module": "@jupyter-widgets/controls",
      "model_module_version": "2.0.0",
      "model_name": "ButtonStyleModel",
      "state": {
       "font_family": null,
       "font_size": null,
       "font_style": null,
       "font_variant": null,
       "font_weight": null,
       "text_color": null,
       "text_decoration": null
      }
     },
     "cf353be488f840eb91ad3f12fd59ae56": {
      "model_module": "@jupyter-widgets/controls",
      "model_module_version": "2.0.0",
      "model_name": "HBoxModel",
      "state": {
       "children": [
        "IPY_MODEL_f5debfc030484d4f824cc61d85b34729"
       ],
       "layout": "IPY_MODEL_a95479b6ba2f4b2cbc346b568f3db782"
      }
     },
     "cfd2db2bbe8a4a14985b138b313fa4a3": {
      "model_module": "@jupyter-widgets/controls",
      "model_module_version": "2.0.0",
      "model_name": "ButtonStyleModel",
      "state": {
       "font_family": null,
       "font_size": null,
       "font_style": null,
       "font_variant": null,
       "font_weight": null,
       "text_color": null,
       "text_decoration": null
      }
     },
     "d35c2d8f795743d19e94920a5c6a965d": {
      "model_module": "@jupyter-widgets/controls",
      "model_module_version": "2.0.0",
      "model_name": "ButtonModel",
      "state": {
       "description": "Just Right",
       "layout": "IPY_MODEL_fcb48f150aca409baf8b18b8f2de36b7",
       "style": "IPY_MODEL_f22215b7b3b0459f89e2bcff1ee414cd",
       "tooltip": null
      }
     },
     "d6ddcbba12d64ec190773009021384cd": {
      "model_module": "@jupyter-widgets/base",
      "model_module_version": "2.0.0",
      "model_name": "LayoutModel",
      "state": {
       "display": "none"
      }
     },
     "e45d35fbc5cb4552aa7de619d38b665d": {
      "model_module": "@jupyter-widgets/controls",
      "model_module_version": "2.0.0",
      "model_name": "HBoxModel",
      "state": {
       "children": [
        "IPY_MODEL_1a41568948ef45398f6b80e8d4000095",
        "IPY_MODEL_d35c2d8f795743d19e94920a5c6a965d",
        "IPY_MODEL_631edf4ed5cb425483f3f0744b4e77f7"
       ],
       "layout": "IPY_MODEL_c97963fab2f74c67aed728b06f297a98"
      }
     },
     "eae82743927c41cf93d02b59c7516e2f": {
      "model_module": "@jupyter-widgets/base",
      "model_module_version": "2.0.0",
      "model_name": "LayoutModel",
      "state": {}
     },
     "eb2e402e302b4d61b66550c4fe0320e0": {
      "model_module": "@jupyter-widgets/base",
      "model_module_version": "2.0.0",
      "model_name": "LayoutModel",
      "state": {}
     },
     "f22215b7b3b0459f89e2bcff1ee414cd": {
      "model_module": "@jupyter-widgets/controls",
      "model_module_version": "2.0.0",
      "model_name": "ButtonStyleModel",
      "state": {
       "font_family": null,
       "font_size": null,
       "font_style": null,
       "font_variant": null,
       "font_weight": null,
       "text_color": null,
       "text_decoration": null
      }
     },
     "f5debfc030484d4f824cc61d85b34729": {
      "model_module": "@jupyter-widgets/controls",
      "model_module_version": "2.0.0",
      "model_name": "TextModel",
      "state": {
       "continuous_update": false,
       "description": "Answer:",
       "layout": "IPY_MODEL_6782f4c85fb14511906f4d0829b3d364",
       "placeholder": "Press Enter to submit",
       "style": "IPY_MODEL_25f29fbd401c4562aeeaa16a2b096956"
      }
     },
     "fcb48f150aca409baf8b18b8f2de36b7": {
      "model_module": "@jupyter-widgets/base",
      "model_module_version": "2.0.0",
      "model_name": "LayoutModel",
      "state": {}
     },
     "fdaa80a50a6c4417978fd5c397ffb857": {
      "model_module": "@jupyter-widgets/controls",
      "model_module_version": "2.0.0",
      "model_name": "ButtonModel",
      "state": {
       "description": "Agree Statement",
       "layout": "IPY_MODEL_8e8f1d42362c42b69b3e899d999ae41e",
       "style": "IPY_MODEL_3d05b8af1ea84ddda7b320453ac793f6",
       "tooltip": null
      }
     }
    },
    "version_major": 2,
    "version_minor": 0
   }
  }
 },
 "nbformat": 4,
 "nbformat_minor": 5
}
