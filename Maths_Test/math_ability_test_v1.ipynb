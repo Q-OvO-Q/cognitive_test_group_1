{
 "cells": [
  {
   "cell_type": "markdown",
   "id": "8d32e712-1e82-4071-8fb6-3ebdff0ef286",
   "metadata": {},
   "source": [
    "# The Math Test\n",
    "\n",
    "This program runs the math test, uploading your results to an online spreadsheet.\n",
    "\n",
    "Select **Run** > **Restart Kernel and Run All Cells** from the menu to run the test.\n",
    "\n",
    "Make sure you have **restarted** the kernel before each run.\n",
    "\n",
    "Manually **delete** any **new cells generated below** after clicking run for a better view and test experience."
   ]
  },
  {
   "cell_type": "code",
   "execution_count": null,
   "id": "9c01bf91-4f94-46a8-8262-ab3c81513617",
   "metadata": {},
   "outputs": [],
   "source": [
    "%run main.py"
   ]
  }
 ],
 "metadata": {
  "kernelspec": {
   "display_name": "Python 3 (ipykernel)",
   "language": "python",
   "name": "python3"
  },
  "language_info": {
   "codemirror_mode": {
    "name": "ipython",
    "version": 3
   },
   "file_extension": ".py",
   "mimetype": "text/x-python",
   "name": "python",
   "nbconvert_exporter": "python",
   "pygments_lexer": "ipython3",
   "version": "3.12.2"
  },
  "widgets": {
   "application/vnd.jupyter.widget-state+json": {
    "state": {
     "0363593a0aaa49a4892e95347a8df77c": {
      "model_module": "@jupyter-widgets/base",
      "model_module_version": "2.0.0",
      "model_name": "LayoutModel",
      "state": {
       "justify_content": "center"
      }
     },
     "03a7730b3bad4dc089d6237f08b44ac3": {
      "model_module": "@jupyter-widgets/base",
      "model_module_version": "2.0.0",
      "model_name": "LayoutModel",
      "state": {}
     },
     "0fdb3b0900584035bad38ea9baad756e": {
      "model_module": "@jupyter-widgets/base",
      "model_module_version": "2.0.0",
      "model_name": "LayoutModel",
      "state": {
       "justify_content": "center"
      }
     },
     "12411080683446ada5bdc40ddddfae32": {
      "model_module": "@jupyter-widgets/controls",
      "model_module_version": "2.0.0",
      "model_name": "TextModel",
      "state": {
       "continuous_update": false,
       "description": "Age: ",
       "layout": "IPY_MODEL_68166b19e315425e8ed48da8dca69a98",
       "placeholder": "Please enter your age",
       "style": "IPY_MODEL_2bb89ba7f8f247feb8f7d576d785c851",
       "value": "gfnhfg"
      }
     },
     "129d74990ee84480ba919697fca2694e": {
      "model_module": "@jupyter-widgets/controls",
      "model_module_version": "2.0.0",
      "model_name": "HBoxModel",
      "state": {
       "children": [
        "IPY_MODEL_d644f2bb170247f49b027aeaa8e9e937"
       ],
       "layout": "IPY_MODEL_2dfc05cf2d394e8b9e6b7d4b5faba09f"
      }
     },
     "1b3d45ec03364918aab3fedbd6c52e1d": {
      "model_module": "@jupyter-widgets/base",
      "model_module_version": "2.0.0",
      "model_name": "LayoutModel",
      "state": {}
     },
     "1c762a0b4aa84287b3b21e9045375d87": {
      "model_module": "@jupyter-widgets/base",
      "model_module_version": "2.0.0",
      "model_name": "LayoutModel",
      "state": {
       "justify_content": "center"
      }
     },
     "22b45641e6f3444eb1313944f1661d0c": {
      "model_module": "@jupyter-widgets/base",
      "model_module_version": "2.0.0",
      "model_name": "LayoutModel",
      "state": {}
     },
     "2bb89ba7f8f247feb8f7d576d785c851": {
      "model_module": "@jupyter-widgets/controls",
      "model_module_version": "2.0.0",
      "model_name": "TextStyleModel",
      "state": {
       "description_width": "",
       "font_size": null,
       "text_color": null
      }
     },
     "2dc438d1291d44d78e9d2af68bbac73f": {
      "model_module": "@jupyter-widgets/output",
      "model_module_version": "1.0.0",
      "model_name": "OutputModel",
      "state": {
       "layout": "IPY_MODEL_ddeafe2e418344a3b7c733cac2f02989"
      }
     },
     "2dfc05cf2d394e8b9e6b7d4b5faba09f": {
      "model_module": "@jupyter-widgets/base",
      "model_module_version": "2.0.0",
      "model_name": "LayoutModel",
      "state": {
       "justify_content": "center"
      }
     },
     "31c33ccfeeaa440db54461a32f5932fa": {
      "model_module": "@jupyter-widgets/base",
      "model_module_version": "2.0.0",
      "model_name": "LayoutModel",
      "state": {}
     },
     "34313717cab7462983cb7f6e1f0a625e": {
      "model_module": "@jupyter-widgets/controls",
      "model_module_version": "2.0.0",
      "model_name": "HBoxModel",
      "state": {
       "children": [
        "IPY_MODEL_3cc5076b16024087afeb713d654d9c9b"
       ],
       "layout": "IPY_MODEL_3bd62c39c3244a5cbda5f3daf28fc7f2"
      }
     },
     "3b88483c9c3948b28fa4e9648e5bb877": {
      "model_module": "@jupyter-widgets/controls",
      "model_module_version": "2.0.0",
      "model_name": "TextStyleModel",
      "state": {
       "description_width": "",
       "font_size": null,
       "text_color": null
      }
     },
     "3bd62c39c3244a5cbda5f3daf28fc7f2": {
      "model_module": "@jupyter-widgets/base",
      "model_module_version": "2.0.0",
      "model_name": "LayoutModel",
      "state": {
       "justify_content": "center"
      }
     },
     "3cc5076b16024087afeb713d654d9c9b": {
      "model_module": "@jupyter-widgets/controls",
      "model_module_version": "2.0.0",
      "model_name": "TextModel",
      "state": {
       "continuous_update": false,
       "description": "Answer:",
       "layout": "IPY_MODEL_b683cd247ea2469287ac86ca63f28e05",
       "placeholder": "Press Enter to submit",
       "style": "IPY_MODEL_42b47235fae34bab9ad0279787b9f759",
       "value": "5"
      }
     },
     "4200d3ac97cc447295a55f44a7b6f068": {
      "model_module": "@jupyter-widgets/controls",
      "model_module_version": "2.0.0",
      "model_name": "HBoxModel",
      "state": {
       "children": [
        "IPY_MODEL_4b42956b81b347778c4145e9a07d42d3"
       ],
       "layout": "IPY_MODEL_5c0b0d3dc4804cfa94d60836bdb0ad88"
      }
     },
     "4252c543ece24ec39b0874d85144e9d3": {
      "model_module": "@jupyter-widgets/base",
      "model_module_version": "2.0.0",
      "model_name": "LayoutModel",
      "state": {
       "display": "none"
      }
     },
     "42b47235fae34bab9ad0279787b9f759": {
      "model_module": "@jupyter-widgets/controls",
      "model_module_version": "2.0.0",
      "model_name": "TextStyleModel",
      "state": {
       "description_width": "",
       "font_size": null,
       "text_color": null
      }
     },
     "4b42956b81b347778c4145e9a07d42d3": {
      "model_module": "@jupyter-widgets/controls",
      "model_module_version": "2.0.0",
      "model_name": "TextModel",
      "state": {
       "continuous_update": false,
       "description": "ID: ",
       "layout": "IPY_MODEL_f1e2884ea0f64fa7a16b6d979c97bd36",
       "placeholder": "Please enter your anonymized id",
       "style": "IPY_MODEL_3b88483c9c3948b28fa4e9648e5bb877",
       "value": "dngnf"
      }
     },
     "5c0b0d3dc4804cfa94d60836bdb0ad88": {
      "model_module": "@jupyter-widgets/base",
      "model_module_version": "2.0.0",
      "model_name": "LayoutModel",
      "state": {
       "justify_content": "center"
      }
     },
     "5c90a0b877474420b362d19efdd17a24": {
      "model_module": "@jupyter-widgets/controls",
      "model_module_version": "2.0.0",
      "model_name": "ButtonModel",
      "state": {
       "description": "Start Test",
       "layout": "IPY_MODEL_03a7730b3bad4dc089d6237f08b44ac3",
       "style": "IPY_MODEL_f6927362abeb41408881c09641acd08d",
       "tooltip": null
      }
     },
     "612daf991a0444d49f8a5b63657ef271": {
      "model_module": "@jupyter-widgets/base",
      "model_module_version": "2.0.0",
      "model_name": "LayoutModel",
      "state": {}
     },
     "68166b19e315425e8ed48da8dca69a98": {
      "model_module": "@jupyter-widgets/base",
      "model_module_version": "2.0.0",
      "model_name": "LayoutModel",
      "state": {}
     },
     "693342db04cc4f6387a7543d9191488d": {
      "model_module": "@jupyter-widgets/controls",
      "model_module_version": "2.0.0",
      "model_name": "HBoxModel",
      "state": {
       "children": [
        "IPY_MODEL_e16b349bfcdc4091b4e23cfd07d170f1"
       ],
       "layout": "IPY_MODEL_9a798743442c40d68b50ede659050224"
      }
     },
     "6dea635b545845f9953f2b63f38eb26a": {
      "model_module": "@jupyter-widgets/output",
      "model_module_version": "1.0.0",
      "model_name": "OutputModel",
      "state": {
       "layout": "IPY_MODEL_4252c543ece24ec39b0874d85144e9d3",
       "outputs": [
        {
         "data": {
          "text/html": "<h1 align='center'>+19</h1>",
          "text/plain": "<IPython.core.display.HTML object>"
         },
         "metadata": {},
         "output_type": "display_data"
        }
       ]
      }
     },
     "6e19a86043364c62a8f25fd70e414512": {
      "model_module": "@jupyter-widgets/controls",
      "model_module_version": "2.0.0",
      "model_name": "HBoxModel",
      "state": {
       "children": [
        "IPY_MODEL_9f2efac310524bc9bd579f4d20723e22"
       ],
       "layout": "IPY_MODEL_0363593a0aaa49a4892e95347a8df77c"
      }
     },
     "70fc68d51eef4e84b092d70d49e6e3ae": {
      "model_module": "@jupyter-widgets/controls",
      "model_module_version": "2.0.0",
      "model_name": "TextStyleModel",
      "state": {
       "description_width": "",
       "font_size": null,
       "text_color": null
      }
     },
     "777d8cf7851a444ebab7469a62a59414": {
      "model_module": "@jupyter-widgets/controls",
      "model_module_version": "2.0.0",
      "model_name": "HBoxModel",
      "state": {
       "children": [
        "IPY_MODEL_c6396d6d90df4b15965fc1bb23adcb54",
        "IPY_MODEL_d983eac0c58549e6af0c6e5278af65a2",
        "IPY_MODEL_a4a8c9479c8e48f685fd53c63e125e22"
       ],
       "layout": "IPY_MODEL_1c762a0b4aa84287b3b21e9045375d87"
      }
     },
     "879861dedf494785884a37205c78b806": {
      "model_module": "@jupyter-widgets/controls",
      "model_module_version": "2.0.0",
      "model_name": "HBoxModel",
      "state": {
       "children": [
        "IPY_MODEL_12411080683446ada5bdc40ddddfae32"
       ],
       "layout": "IPY_MODEL_d70a7aeb1f2244188e8ee191239412c7"
      }
     },
     "91ca4adab0e24c708669b40d1ef04252": {
      "model_module": "@jupyter-widgets/output",
      "model_module_version": "1.0.0",
      "model_name": "OutputModel",
      "state": {
       "layout": "IPY_MODEL_c790f4085598432bbc091c1eac579109"
      }
     },
     "9a798743442c40d68b50ede659050224": {
      "model_module": "@jupyter-widgets/base",
      "model_module_version": "2.0.0",
      "model_name": "LayoutModel",
      "state": {
       "justify_content": "center"
      }
     },
     "9f2efac310524bc9bd579f4d20723e22": {
      "model_module": "@jupyter-widgets/controls",
      "model_module_version": "2.0.0",
      "model_name": "ButtonModel",
      "state": {
       "description": "Agree Statement",
       "layout": "IPY_MODEL_22b45641e6f3444eb1313944f1661d0c",
       "style": "IPY_MODEL_d718691026124aeeb3f4c215070c5fe5",
       "tooltip": null
      }
     },
     "a35263de892a47f18fb65413cd9fb9d5": {
      "model_module": "@jupyter-widgets/controls",
      "model_module_version": "2.0.0",
      "model_name": "DescriptionStyleModel",
      "state": {
       "description_width": ""
      }
     },
     "a4a8c9479c8e48f685fd53c63e125e22": {
      "model_module": "@jupyter-widgets/controls",
      "model_module_version": "2.0.0",
      "model_name": "ButtonModel",
      "state": {
       "description": "Too Easy",
       "layout": "IPY_MODEL_612daf991a0444d49f8a5b63657ef271",
       "style": "IPY_MODEL_fa53ef57790243558cc569f352cf8ff8",
       "tooltip": null
      }
     },
     "a518505f971c423e85ca08e662e123a1": {
      "model_module": "@jupyter-widgets/controls",
      "model_module_version": "2.0.0",
      "model_name": "ButtonStyleModel",
      "state": {
       "font_family": null,
       "font_size": null,
       "font_style": null,
       "font_variant": null,
       "font_weight": null,
       "text_color": null,
       "text_decoration": null
      }
     },
     "abeabe6cd1984b60886ef5993b0821ff": {
      "model_module": "@jupyter-widgets/output",
      "model_module_version": "1.0.0",
      "model_name": "OutputModel",
      "state": {
       "layout": "IPY_MODEL_d18229e31b9549509f9e21c73920a16c"
      }
     },
     "ad1beccd8e6a4519b8a3f4dfa877fa19": {
      "model_module": "@jupyter-widgets/controls",
      "model_module_version": "2.0.0",
      "model_name": "ButtonStyleModel",
      "state": {
       "font_family": null,
       "font_size": null,
       "font_style": null,
       "font_variant": null,
       "font_weight": null,
       "text_color": null,
       "text_decoration": null
      }
     },
     "b683cd247ea2469287ac86ca63f28e05": {
      "model_module": "@jupyter-widgets/base",
      "model_module_version": "2.0.0",
      "model_name": "LayoutModel",
      "state": {}
     },
     "bf31e78b6ed449e3b6402c93ce1ef36d": {
      "model_module": "@jupyter-widgets/controls",
      "model_module_version": "2.0.0",
      "model_name": "HBoxModel",
      "state": {
       "children": [
        "IPY_MODEL_cc09cc6da06c462ab713dc35a5536228"
       ],
       "layout": "IPY_MODEL_df3f658c02884e28b726d50738a6448b"
      }
     },
     "c050b2fe78044f50b89fa95037565cab": {
      "model_module": "@jupyter-widgets/base",
      "model_module_version": "2.0.0",
      "model_name": "LayoutModel",
      "state": {}
     },
     "c6396d6d90df4b15965fc1bb23adcb54": {
      "model_module": "@jupyter-widgets/controls",
      "model_module_version": "2.0.0",
      "model_name": "ButtonModel",
      "state": {
       "description": "Too Hard",
       "layout": "IPY_MODEL_c050b2fe78044f50b89fa95037565cab",
       "style": "IPY_MODEL_ad1beccd8e6a4519b8a3f4dfa877fa19",
       "tooltip": null
      }
     },
     "c790f4085598432bbc091c1eac579109": {
      "model_module": "@jupyter-widgets/base",
      "model_module_version": "2.0.0",
      "model_name": "LayoutModel",
      "state": {
       "display": "none"
      }
     },
     "cb0df2b02b1344a982b950d50d4aeeb5": {
      "model_module": "@jupyter-widgets/controls",
      "model_module_version": "2.0.0",
      "model_name": "TextStyleModel",
      "state": {
       "description_width": "",
       "font_size": null,
       "text_color": null
      }
     },
     "cc09cc6da06c462ab713dc35a5536228": {
      "model_module": "@jupyter-widgets/controls",
      "model_module_version": "2.0.0",
      "model_name": "TextModel",
      "state": {
       "continuous_update": false,
       "description": "Answer:",
       "layout": "IPY_MODEL_fff360d8d50f4ab7908327d333dc78be",
       "placeholder": "Press Enter to submit",
       "style": "IPY_MODEL_cb0df2b02b1344a982b950d50d4aeeb5",
       "value": "4555"
      }
     },
     "cdf19a767c734819abe88f199a314325": {
      "model_module": "@jupyter-widgets/output",
      "model_module_version": "1.0.0",
      "model_name": "OutputModel",
      "state": {
       "layout": "IPY_MODEL_d8811d49dce64d32b059919a28421908",
       "outputs": [
        {
         "name": "stdout",
         "output_type": "stream",
         "text": "\rDifficulty: Hard"
        }
       ]
      }
     },
     "d18229e31b9549509f9e21c73920a16c": {
      "model_module": "@jupyter-widgets/base",
      "model_module_version": "2.0.0",
      "model_name": "LayoutModel",
      "state": {
       "display": "none"
      }
     },
     "d644f2bb170247f49b027aeaa8e9e937": {
      "model_module": "@jupyter-widgets/controls",
      "model_module_version": "2.0.0",
      "model_name": "DropdownModel",
      "state": {
       "_options_labels": [
        "Male",
        "Female",
        "Other"
       ],
       "description": "Gender: ",
       "index": 2,
       "layout": "IPY_MODEL_31c33ccfeeaa440db54461a32f5932fa",
       "style": "IPY_MODEL_a35263de892a47f18fb65413cd9fb9d5"
      }
     },
     "d70a7aeb1f2244188e8ee191239412c7": {
      "model_module": "@jupyter-widgets/base",
      "model_module_version": "2.0.0",
      "model_name": "LayoutModel",
      "state": {
       "justify_content": "center"
      }
     },
     "d718691026124aeeb3f4c215070c5fe5": {
      "model_module": "@jupyter-widgets/controls",
      "model_module_version": "2.0.0",
      "model_name": "ButtonStyleModel",
      "state": {
       "font_family": null,
       "font_size": null,
       "font_style": null,
       "font_variant": null,
       "font_weight": null,
       "text_color": null,
       "text_decoration": null
      }
     },
     "d8811d49dce64d32b059919a28421908": {
      "model_module": "@jupyter-widgets/base",
      "model_module_version": "2.0.0",
      "model_name": "LayoutModel",
      "state": {
       "display": "none"
      }
     },
     "d983eac0c58549e6af0c6e5278af65a2": {
      "model_module": "@jupyter-widgets/controls",
      "model_module_version": "2.0.0",
      "model_name": "ButtonModel",
      "state": {
       "description": "Just Right",
       "layout": "IPY_MODEL_f3d7371f00f14c0d962a039e52646f0f",
       "style": "IPY_MODEL_a518505f971c423e85ca08e662e123a1",
       "tooltip": null
      }
     },
     "ddeafe2e418344a3b7c733cac2f02989": {
      "model_module": "@jupyter-widgets/base",
      "model_module_version": "2.0.0",
      "model_name": "LayoutModel",
      "state": {
       "display": "none",
       "visibility": "visible"
      }
     },
     "df3f658c02884e28b726d50738a6448b": {
      "model_module": "@jupyter-widgets/base",
      "model_module_version": "2.0.0",
      "model_name": "LayoutModel",
      "state": {
       "justify_content": "center"
      }
     },
     "e16b349bfcdc4091b4e23cfd07d170f1": {
      "model_module": "@jupyter-widgets/controls",
      "model_module_version": "2.0.0",
      "model_name": "TextModel",
      "state": {
       "continuous_update": false,
       "description": "Answer:",
       "layout": "IPY_MODEL_1b3d45ec03364918aab3fedbd6c52e1d",
       "placeholder": "Press Enter to submit",
       "style": "IPY_MODEL_70fc68d51eef4e84b092d70d49e6e3ae"
      }
     },
     "f1e2884ea0f64fa7a16b6d979c97bd36": {
      "model_module": "@jupyter-widgets/base",
      "model_module_version": "2.0.0",
      "model_name": "LayoutModel",
      "state": {}
     },
     "f3d7371f00f14c0d962a039e52646f0f": {
      "model_module": "@jupyter-widgets/base",
      "model_module_version": "2.0.0",
      "model_name": "LayoutModel",
      "state": {}
     },
     "f6927362abeb41408881c09641acd08d": {
      "model_module": "@jupyter-widgets/controls",
      "model_module_version": "2.0.0",
      "model_name": "ButtonStyleModel",
      "state": {
       "font_family": null,
       "font_size": null,
       "font_style": null,
       "font_variant": null,
       "font_weight": null,
       "text_color": null,
       "text_decoration": null
      }
     },
     "f9245a9206934f1a90f968aeeb9d9804": {
      "model_module": "@jupyter-widgets/controls",
      "model_module_version": "2.0.0",
      "model_name": "HBoxModel",
      "state": {
       "children": [
        "IPY_MODEL_5c90a0b877474420b362d19efdd17a24"
       ],
       "layout": "IPY_MODEL_0fdb3b0900584035bad38ea9baad756e"
      }
     },
     "fa53ef57790243558cc569f352cf8ff8": {
      "model_module": "@jupyter-widgets/controls",
      "model_module_version": "2.0.0",
      "model_name": "ButtonStyleModel",
      "state": {
       "font_family": null,
       "font_size": null,
       "font_style": null,
       "font_variant": null,
       "font_weight": null,
       "text_color": null,
       "text_decoration": null
      }
     },
     "fff360d8d50f4ab7908327d333dc78be": {
      "model_module": "@jupyter-widgets/base",
      "model_module_version": "2.0.0",
      "model_name": "LayoutModel",
      "state": {}
     }
    },
    "version_major": 2,
    "version_minor": 0
   }
  }
 },
 "nbformat": 4,
 "nbformat_minor": 5
}
